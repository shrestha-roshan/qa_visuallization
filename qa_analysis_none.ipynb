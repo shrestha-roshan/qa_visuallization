{
 "cells": [
  {
   "cell_type": "code",
   "execution_count": 4,
   "metadata": {},
   "outputs": [],
   "source": [
    "from glob import glob\n",
    "import numpy as np\n",
    "import pandas as pd\n",
    "import os"
   ]
  },
  {
   "cell_type": "code",
   "execution_count": 5,
   "metadata": {},
   "outputs": [],
   "source": [
    "version          = 'sharechat_1.2.1'\n",
    "client           = 'sharechat'\n",
    "\n",
    "video_root       = f'/notebooks/common-dataset/common/{client}/video_segmented'\n",
    "images_root_path = f'/notebooks/common-dataset/common/{client}/{version}/Suggested_ads'\n",
    "result_path      = f'/notebooks/common-dataset/common/{client}/{version}/result.txt'\n",
    "json_file_root   = f'/notebooks/common-dataset/common/{client}/{version}/json'\n",
    "detected_path    = f'/notebooks/common-dataset/common/{client}/{version}/temp-media-folder/analytics'\n",
    "QA_complted_list = f'/notebooks/common-dataset/common/{client}/{version}/qa_complted.txt'\n",
    "\n",
    "json_file_paths  = glob(f'{json_file_root}/*.json')\n"
   ]
  },
  {
   "cell_type": "code",
   "execution_count": 6,
   "metadata": {},
   "outputs": [
    {
     "data": {
      "text/plain": [
       "(2126, 7)"
      ]
     },
     "execution_count": 6,
     "metadata": {},
     "output_type": "execute_result"
    }
   ],
   "source": [
    "df = pd.read_csv(result_path, sep=\",\", names=['filepath','frame', 'gender', 'category', 'color', 'pattern','user']) \n",
    "df.drop_duplicates(subset=['filepath'], inplace = True)\n",
    "df.shape"
   ]
  },
  {
   "cell_type": "code",
   "execution_count": 7,
   "metadata": {},
   "outputs": [],
   "source": [
    "df = df.loc[df['color'] == 'NO']"
   ]
  },
  {
   "cell_type": "code",
   "execution_count": 8,
   "metadata": {},
   "outputs": [
    {
     "data": {
      "text/plain": [
       "(1696, 7)"
      ]
     },
     "execution_count": 8,
     "metadata": {},
     "output_type": "execute_result"
    }
   ],
   "source": [
    "df.shape"
   ]
  },
  {
   "cell_type": "code",
   "execution_count": 9,
   "metadata": {},
   "outputs": [],
   "source": [
    "if client == 'mx':\n",
    "    total_segmented_videos    = len(glob(f'{video_root}/*'))\n",
    "    print(total_segmented_videos)\n",
    "else:\n",
    "    total_segmented_videos    = len(glob(f'{video_root}/*'))\n",
    "total_product_recommended = len(glob(f'{images_root_path}/*/multi_color_image_matching/*'))\n",
    "total_videos_hit          = len(set(['_'.join(i.split('/')[-1].split('_')[0:3]) for i in glob(f'{images_root_path}/*/multi_color_image_matching/*')]))\n",
    "hit_rate                  = round(total_videos_hit/total_segmented_videos*100,2)"
   ]
  },
  {
   "cell_type": "code",
   "execution_count": 10,
   "metadata": {
    "scrolled": true
   },
   "outputs": [
    {
     "data": {
      "text/plain": [
       "956"
      ]
     },
     "execution_count": 10,
     "metadata": {},
     "output_type": "execute_result"
    }
   ],
   "source": [
    "total_segmented_videos"
   ]
  },
  {
   "cell_type": "code",
   "execution_count": 11,
   "metadata": {},
   "outputs": [
    {
     "data": {
      "text/plain": [
       "array(['roshan', 'bigyan', 'gaurab', 'prakash', 'sangam'], dtype=object)"
      ]
     },
     "execution_count": 11,
     "metadata": {},
     "output_type": "execute_result"
    }
   ],
   "source": [
    "df['user'].unique()"
   ]
  },
  {
   "cell_type": "code",
   "execution_count": 12,
   "metadata": {},
   "outputs": [],
   "source": [
    "pattern = [i.split('/')[-1] for i in glob(f'{images_root_path}/*/multi_color_image_matching/*')]"
   ]
  },
  {
   "cell_type": "code",
   "execution_count": 13,
   "metadata": {},
   "outputs": [],
   "source": [
    "color = [i.split('/')[-1] for i in glob(f'{images_root_path}/*/multi_color/*')]"
   ]
  },
  {
   "cell_type": "code",
   "execution_count": 14,
   "metadata": {},
   "outputs": [
    {
     "data": {
      "text/plain": [
       "-206"
      ]
     },
     "execution_count": 14,
     "metadata": {},
     "output_type": "execute_result"
    }
   ],
   "source": [
    "len(color) -len(pattern)"
   ]
  },
  {
   "cell_type": "code",
   "execution_count": 15,
   "metadata": {},
   "outputs": [
    {
     "data": {
      "text/plain": [
       "132"
      ]
     },
     "execution_count": 15,
     "metadata": {},
     "output_type": "execute_result"
    }
   ],
   "source": [
    "132"
   ]
  },
  {
   "cell_type": "code",
   "execution_count": null,
   "metadata": {},
   "outputs": [],
   "source": []
  },
  {
   "cell_type": "code",
   "execution_count": 16,
   "metadata": {},
   "outputs": [
    {
     "data": {
      "text/plain": [
       "443"
      ]
     },
     "execution_count": 16,
     "metadata": {},
     "output_type": "execute_result"
    }
   ],
   "source": [
    "len(pattern)"
   ]
  },
  {
   "cell_type": "code",
   "execution_count": 18,
   "metadata": {},
   "outputs": [],
   "source": [
    "total            = df.shape[0]\n",
    "\n",
    "all_good_count   = ((df['gender'] == 'good') & (df['color'] == 'good') & (df['category'] == 'good') & \n",
    "                    (df['pattern'] == 'good')).tolist().count(True)\n",
    "\n",
    "bad_gender       = df['gender'].tolist().count('bad')\n",
    "good_gender      = df['gender'].tolist().count('good')\n",
    "\n",
    "bad_color        = df['color'].tolist().count('bad')\n",
    "good_color       = df['color'].tolist().count('good')\n",
    "none_color       = df['color'].tolist().count('NO')\n",
    "\n",
    "bad_category     = df['category'].tolist().count('bad')\n",
    "good_category    = df['category'].tolist().count('good')\n",
    "\n",
    "bad_pattern      = df['pattern'].tolist().count('bad')\n",
    "good_pattern     = df['pattern'].tolist().count('good')\n",
    "none_pattern     = df['pattern'].tolist().count('NO')\n",
    "\n",
    "bad_frame        = df['frame'].tolist().count('bad')\n",
    "good_frame       = df['frame'].tolist().count('good')\n",
    "\n",
    "\n",
    "# total_product_recommended = bad_pattern + good_pattern\n",
    "# best_recommendation_percent = round(all_good_count/total_product_recommended*100,2) "
   ]
  },
  {
   "cell_type": "code",
   "execution_count": 98,
   "metadata": {},
   "outputs": [
    {
     "data": {
      "text/plain": [
       "83.49"
      ]
     },
     "execution_count": 98,
     "metadata": {},
     "output_type": "execute_result"
    }
   ],
   "source": [
    "best_recommendation_percent"
   ]
  },
  {
   "cell_type": "code",
   "execution_count": 19,
   "metadata": {},
   "outputs": [],
   "source": [
    "d = {'client':client, 'version': version, 'total_qa':[total],'total_segmented_videos':[total_segmented_videos],\n",
    "#      'total_product_recommended':[bad_pattern+good_pattern],\n",
    "     'total_videos_hit':[total_videos_hit],'hit_rate_in_percent':[hit_rate],\n",
    "#      'best_recommendation (all_metrics_good)':all_good_count, \n",
    "#      'best_recommendation (%)':best_recommendation_percent,\n",
    "     'bad_gender': [bad_gender], 'good_gender':[good_gender],\n",
    "     'bad_color':[bad_color], 'good_color':[good_color], \n",
    "     'none_color':[none_color], 'bad_category':[bad_category],\n",
    "     'good_category':[good_category],'bad_pattern':[bad_pattern],\n",
    "     'good_pattern':[good_pattern], 'none_pattern':[none_pattern], \n",
    "     'bad_frame':[bad_frame],'good_frame':[good_frame]}\n",
    "df_analysis = pd.DataFrame(data=d ,index = [version])\n",
    "# df_analysis.to_csv('all_analysis.csv', index = False)\n",
    "df_previous = pd.read_csv('all_analysis.csv')"
   ]
  },
  {
   "cell_type": "code",
   "execution_count": 20,
   "metadata": {},
   "outputs": [
    {
     "name": "stdout",
     "output_type": "stream",
     "text": [
      "this version is already recorded\n"
     ]
    }
   ],
   "source": [
    "df_analysis.to_csv(f'{version}.csv', index = False)\n",
    "if not df_previous['version'].isin(df_analysis['version'].values.tolist()).any():\n",
    "    df_analysis.to_csv(f'all_analysis.csv', mode = 'a', index = False, header = False)\n",
    "    df_previous = pd.read_csv('all_analysis.csv')\n",
    "    print('added_sucessfully')\n",
    "else:\n",
    "    print('this version is already recorded')"
   ]
  },
  {
   "cell_type": "code",
   "execution_count": 21,
   "metadata": {},
   "outputs": [],
   "source": [
    "df_previous = pd.read_csv('all_analysis.csv', index_col = 'version')"
   ]
  },
  {
   "cell_type": "code",
   "execution_count": 22,
   "metadata": {
    "scrolled": true
   },
   "outputs": [
    {
     "data": {
      "text/plain": [
       "{'395d5f0f_1631918670325_2',\n",
       " '395e4a72_1631710117164_0',\n",
       " '395e57b5_1633311148070_0',\n",
       " '396072ff_1634706096399_3',\n",
       " '3965231f_1632748153331_4',\n",
       " '39680361_1631307716172_0',\n",
       " '396cff11_1630380288124_0',\n",
       " '396deafc_1629926939507_0',\n",
       " '396fb7b1_1630132870630_1',\n",
       " '39702373_1631876666626_0',\n",
       " '39716321_1630075522897_0',\n",
       " '3974df1c_1630248132265_1',\n",
       " '397e6282_1629636264946_0',\n",
       " '397ec326_1633030070130_0',\n",
       " '3989281d_1634752440834_0',\n",
       " '398aa455_1634623446021_2',\n",
       " '399113db_1631475080756_1',\n",
       " '3993dcc0_1629551067251_0',\n",
       " '39945731_1631098540877_0',\n",
       " '3995ea07_1629996034608_0',\n",
       " '399a3410_1632386846537_0',\n",
       " '399b743a_1632923007016_2',\n",
       " '399b743a_1632923007016_3',\n",
       " '399fca15_1631228020888_0',\n",
       " '39a09a7d_1633521201239_0',\n",
       " '39a0bed0_1632094721657_1',\n",
       " '39a33063_1631602102018_1',\n",
       " '39a556f1_1632380716180_0',\n",
       " '39a8472e_1631098591765_1',\n",
       " '39ac16a9_1629934326309_0',\n",
       " '39ae1517_1633016678437_0',\n",
       " '39afb245_1632151305927_1',\n",
       " '39b26729_1631365372366_1',\n",
       " '39b69065_1631918796692_0',\n",
       " '39b6be3e_1632515818651_0',\n",
       " '39bde4a6_1631481873146_0',\n",
       " '39be7043_1630229364625_1',\n",
       " '39c2a8a7_1629588065893_0',\n",
       " '39c2a8a7_1629588065893_1',\n",
       " '39c65084_1629501881766_0',\n",
       " '39c65896_1632055407282_1',\n",
       " '39c77319_1631004506842_0',\n",
       " '39c9ebf7_1631004469682_0',\n",
       " '39cc47a7_1630495598306_1',\n",
       " '39ce9f50_1629588098217_1',\n",
       " '39d018ec_1631519196810_0',\n",
       " '39d0a27a_1631040296547_2',\n",
       " '39d559d9_1633183825204_1',\n",
       " '39d7352_1634281791763_1',\n",
       " '39d7d428_1632647540042_0',\n",
       " '39d828fd_1630363048451_0',\n",
       " '39da5a6e_1629969110073_0',\n",
       " '39dac683_1632480659713_1',\n",
       " '39dc75f_1629787439964_1',\n",
       " '39e0f539_1629485957479_0',\n",
       " '39e147e8_1631799469306_0',\n",
       " '39e147e8_1631799469306_2',\n",
       " '39e29431_1629673799835_0',\n",
       " '39eb737c_1630003395996_1',\n",
       " '39ec7814_1632981890531_0',\n",
       " '39f3e463_1634373714741_0',\n",
       " '39f5c4b9_1632955600914_1',\n",
       " '39f78dd7_1632748110710_1',\n",
       " '39f90932_1633004269736_0',\n",
       " '39fb9e3f_1632992042991_1',\n",
       " '39fd036b_1632841511328_0',\n",
       " '3a05f84d_1631481895417_0',\n",
       " '3a06d22d_1631782740045_0',\n",
       " '3a077a46_1630495608766_0',\n",
       " '3a0acec4_1632833482845_0',\n",
       " '3a10690d_1632394974565_0',\n",
       " '3a1982d7_1631734145178_0',\n",
       " '3a1a85c_1633603449263_0',\n",
       " '3a1b18a1_1630363077563_2',\n",
       " '3a1b4fb0_1629919249445_0',\n",
       " '3a1baf6f_1630487943271_2',\n",
       " '3a21e049_1629846318521_2',\n",
       " '3a231588_1629838748966_1',\n",
       " '3a2521b9_1631661306859_0',\n",
       " '3a261755_1632663291714_0',\n",
       " '3a27099c_1629737907542_0',\n",
       " '3a286a_1634209116644_0',\n",
       " '3a2d6a1c_1631560223375_0',\n",
       " '3a311d96_1631380303954_1',\n",
       " '3a3912f4_1629580824900_0',\n",
       " '3a3de4a8_1630018535300_0',\n",
       " '3a3e31da_1631047794383_3',\n",
       " '3a480622_1631679600522_0',\n",
       " '3a48237f_1631516288093_2',\n",
       " '3a49024_1629573174417_1',\n",
       " '3a49455f_1632947215726_0',\n",
       " '3a4a9b7c_1629666224813_1',\n",
       " '3a4bbc44_1631208497073_0',\n",
       " '3a4c360c_1631557586871_1',\n",
       " '3a4cd825_1630169980136_1',\n",
       " '3a517c1b_1632927312598_2',\n",
       " '3a52b242_1632740250095_0',\n",
       " '3a55b1f7_1632999502690_1',\n",
       " '3a56bcae_1631890924010_2',\n",
       " '3a5808b4_1631878451989_0',\n",
       " '3a5b333a_1630018535039_0',\n",
       " '3a61d969_1634178348940_0',\n",
       " '3a626ce9_1631617652757_1',\n",
       " '3a62e29d_1634883855570_4',\n",
       " '3a659f3a_1631689530456_0',\n",
       " '3a667a5a_1634550141150_0',\n",
       " '3a677df9_1631266060028_0',\n",
       " '3a687786_1632836028357_1',\n",
       " '3a6ba5a5_1632668305754_0',\n",
       " '3a6c4976_1630172666960_3',\n",
       " '3a6eab91_1631106275942_1',\n",
       " '3a720057_1631129269120_2',\n",
       " '3a7477e7_1634263479591_0',\n",
       " '3a7756fa_1631047729602_0',\n",
       " '3a7b77b_1632430006271_3',\n",
       " '3a7bd8e5_1630229447772_0',\n",
       " '3a809677_1631489273595_3',\n",
       " '3a80ee70_1632647598601_4',\n",
       " '3a854390_1631810251123_0',\n",
       " '3a888989_1629689105996_0',\n",
       " '3a8b5827_1632775644207_0',\n",
       " '3a8f1459_1629846529235_1',\n",
       " '3a8f30a7_1629787469814_0',\n",
       " '3a914ca2_1632955511618_0',\n",
       " '3a9695c7_1629543494388_0',\n",
       " '3a9ada7e_1631451643829_2',\n",
       " '3a9ada7e_1631451643829_5',\n",
       " '3a9bba87_1631609815301_2'}"
      ]
     },
     "execution_count": 22,
     "metadata": {},
     "output_type": "execute_result"
    }
   ],
   "source": [
    "set(['_'.join(i.split('/')[-1].split('_')[0:3]) for i in glob(f'{images_root_path}/*/multi_color_image_matching/*')]) - set(['_'.join(i.split('/')[-1].split('_')[0:3]) for i in df['filepath'].tolist()])"
   ]
  },
  {
   "cell_type": "code",
   "execution_count": 23,
   "metadata": {},
   "outputs": [],
   "source": [
    "all_cat =  ['_'.join(i.split('.')[0].split('_')[-2:]).strip('HSV0123456789').lstrip('_') for i in df['filepath']]\n",
    "df_all_cat = pd.DataFrame (all_cat, columns = ['all_cat'])"
   ]
  },
  {
   "cell_type": "code",
   "execution_count": 24,
   "metadata": {},
   "outputs": [
    {
     "data": {
      "text/plain": [
       "273"
      ]
     },
     "execution_count": 24,
     "metadata": {},
     "output_type": "execute_result"
    }
   ],
   "source": [
    "df_all_cat['all_cat'].value_counts()['half_tshirt']"
   ]
  },
  {
   "cell_type": "code",
   "execution_count": 25,
   "metadata": {},
   "outputs": [],
   "source": [
    "bad_cat_only =  ['_'.join(i.split('.')[0].split('_')[-3:]).strip('HSV0123456789').lstrip('_') for i in df[df['category'] == 'bad']['filepath']]\n",
    "df_bad = pd.DataFrame (bad_cat_only, columns = ['bad_cat'])"
   ]
  },
  {
   "cell_type": "code",
   "execution_count": 26,
   "metadata": {},
   "outputs": [],
   "source": [
    "bad_color_only =  ['_'.join(i.split('_')[:2]) for i in df[df['color'] == 'bad']['filepath']]\n",
    "bad_color_only\n",
    "with open('bad_color_1.1.4.txt', 'w') as f:\n",
    "    for i in bad_color_only:\n",
    "        f.write(f'{i}\\n')"
   ]
  },
  {
   "cell_type": "code",
   "execution_count": 27,
   "metadata": {
    "scrolled": false
   },
   "outputs": [],
   "source": [
    "none_data =  [i for i in df[df['pattern'] == 'NO']['filepath']]\n",
    "none_data\n",
    "with open('none_1.2.txt', 'w') as f:\n",
    "    for i in none_data:\n",
    "        f.write(f'{i}\\n')"
   ]
  },
  {
   "cell_type": "code",
   "execution_count": 28,
   "metadata": {},
   "outputs": [],
   "source": [
    "bad_cat_videos = (['_'.join(i.split('_')[:2]) for i in df[df['category'] == 'bad']['filepath']])"
   ]
  },
  {
   "cell_type": "code",
   "execution_count": 29,
   "metadata": {},
   "outputs": [],
   "source": [
    "good_cat_only =  ['_'.join(i.split('.')[0].split('_')[-2:]).strip('HSV0123456789').lstrip('_') for i in df[df['category'] == 'good']['filepath']]\n",
    "df_good = pd.DataFrame (good_cat_only, columns = ['good_cat'])"
   ]
  },
  {
   "cell_type": "code",
   "execution_count": 30,
   "metadata": {},
   "outputs": [],
   "source": [
    "good_cat_only =  ['_'.join(i.split('.')[0].split('_')[-3:]).strip('HSV0123456789_').lstrip('_') for i in df[df['category'] == 'good']['filepath']]\n",
    "df_good = pd.DataFrame (good_cat_only, columns = ['good_cat'])"
   ]
  },
  {
   "cell_type": "code",
   "execution_count": 31,
   "metadata": {
    "scrolled": true
   },
   "outputs": [
    {
     "data": {
      "text/plain": [
       "0.07692307692307693"
      ]
     },
     "execution_count": 31,
     "metadata": {},
     "output_type": "execute_result"
    }
   ],
   "source": [
    "df_bad['bad_cat'].value_counts()['full_shirt']/df_all_cat['all_cat'].value_counts()['half_tshirt']"
   ]
  },
  {
   "cell_type": "markdown",
   "metadata": {},
   "source": [
    "# PLOT"
   ]
  },
  {
   "cell_type": "code",
   "execution_count": 44,
   "metadata": {
    "scrolled": false
   },
   "outputs": [
    {
     "data": {
      "image/png": "[encoded data removed]",
      "text/plain": [
       "<Figure size 1440x792 with 1 Axes>"
      ]
     },
     "metadata": {},
     "output_type": "display_data"
    }
   ],
   "source": [
    "import matplotlib\n",
    "import matplotlib.pyplot as plt\n",
    "import numpy as np\n",
    "\n",
    "labels = ['gender', 'category', 'frame']\n",
    "good = [good_gender, good_category,  good_frame]\n",
    "bad =[bad_gender, bad_category,  bad_frame]\n",
    "no = [0, 0 ,  0]\n",
    "\n",
    "plt.style.use('fivethirtyeight')\n",
    "x = np.arange(len(labels))  # the label locations\n",
    "width = 0.27  # the width of the bars\n",
    "\n",
    "fig, ax = plt.subplots(figsize=(20,11))\n",
    "rects1 = ax.bar(x - width, bad, width = width, label='Bad', color='r')\n",
    "rects2 = ax.bar(x , good, width, label='Good', color='g')\n",
    "rects3 = ax.bar(x + width, no, width, label='No', color='y')\n",
    "\n",
    "# Add some text for labels, title and custom x-axis tick labels, etc.\n",
    "ax.set_ylabel('Scores', fontdict = {'fontsize': 18})\n",
    "ax.set_title(f'{version}', fontdict = {'fontsize': 20})\n",
    "ax.set_xticks(x)\n",
    "ax.tick_params(bottom=False)\n",
    "ax.set_xticklabels(labels, fontdict = {'fontsize': 18})\n",
    "ax.legend( prop={'size': 15})\n",
    "\n",
    "def autolabel(rects):\n",
    "    \"\"\"Attach a text label above each bar in *rects*, displaying its height.\"\"\"\n",
    "    for rect in rects:\n",
    "        height = rect.get_height()\n",
    "        if height != 0:\n",
    "            ax.annotate(f\"{height} ({round(height/total*100,2)}%)\",\n",
    "                        xy=(rect.get_x() + rect.get_width() / 2, height),\n",
    "                        xytext=(0, 3),  # 3 points vertical offset\n",
    "                        textcoords=\"offset points\", size = '11',\n",
    "                        ha='center', va='bottom')\n",
    "\n",
    "\n",
    "autolabel(rects1)\n",
    "autolabel(rects2)\n",
    "autolabel(rects3)\n",
    "\n",
    "\n",
    "fig.tight_layout()\n",
    "\n",
    "plt.savefig(f'{version}_graph.png')\n",
    "plt.show()"
   ]
  },
  {
   "cell_type": "code",
   "execution_count": 45,
   "metadata": {},
   "outputs": [
    {
     "data": {
      "text/html": [
       "<div>\n",
       "<style scoped>\n",
       "    .dataframe tbody tr th:only-of-type {\n",
       "        vertical-align: middle;\n",
       "    }\n",
       "\n",
       "    .dataframe tbody tr th {\n",
       "        vertical-align: top;\n",
       "    }\n",
       "\n",
       "    .dataframe thead th {\n",
       "        text-align: right;\n",
       "    }\n",
       "</style>\n",
       "<table border=\"1\" class=\"dataframe\">\n",
       "  <thead>\n",
       "    <tr style=\"text-align: right;\">\n",
       "      <th></th>\n",
       "      <th>client</th>\n",
       "      <th>version</th>\n",
       "      <th>total_qa</th>\n",
       "      <th>total_segmented_videos</th>\n",
       "      <th>total_videos_hit</th>\n",
       "      <th>hit_rate_in_percent</th>\n",
       "      <th>bad_gender</th>\n",
       "      <th>good_gender</th>\n",
       "      <th>bad_color</th>\n",
       "      <th>good_color</th>\n",
       "      <th>none_color</th>\n",
       "      <th>bad_category</th>\n",
       "      <th>good_category</th>\n",
       "      <th>bad_pattern</th>\n",
       "      <th>good_pattern</th>\n",
       "      <th>none_pattern</th>\n",
       "      <th>bad_frame</th>\n",
       "      <th>good_frame</th>\n",
       "    </tr>\n",
       "  </thead>\n",
       "  <tbody>\n",
       "    <tr>\n",
       "      <th>sharechat_1.2.1</th>\n",
       "      <td>sharechat</td>\n",
       "      <td>sharechat_1.2.1</td>\n",
       "      <td>1696</td>\n",
       "      <td>956</td>\n",
       "      <td>398</td>\n",
       "      <td>41.63</td>\n",
       "      <td>12</td>\n",
       "      <td>1684</td>\n",
       "      <td>0</td>\n",
       "      <td>0</td>\n",
       "      <td>1696</td>\n",
       "      <td>137</td>\n",
       "      <td>1559</td>\n",
       "      <td>0</td>\n",
       "      <td>0</td>\n",
       "      <td>1696</td>\n",
       "      <td>142</td>\n",
       "      <td>1554</td>\n",
       "    </tr>\n",
       "  </tbody>\n",
       "</table>\n",
       "</div>"
      ],
      "text/plain": [
       "                    client          version  total_qa  total_segmented_videos  \\\n",
       "sharechat_1.2.1  sharechat  sharechat_1.2.1      1696                     956   \n",
       "\n",
       "                 total_videos_hit  hit_rate_in_percent  bad_gender  \\\n",
       "sharechat_1.2.1               398                41.63          12   \n",
       "\n",
       "                 good_gender  bad_color  good_color  none_color  bad_category  \\\n",
       "sharechat_1.2.1         1684          0           0        1696           137   \n",
       "\n",
       "                 good_category  bad_pattern  good_pattern  none_pattern  \\\n",
       "sharechat_1.2.1           1559            0             0          1696   \n",
       "\n",
       "                 bad_frame  good_frame  \n",
       "sharechat_1.2.1        142        1554  "
      ]
     },
     "execution_count": 45,
     "metadata": {},
     "output_type": "execute_result"
    }
   ],
   "source": [
    "df_analysis"
   ]
  },
  {
   "cell_type": "code",
   "execution_count": 46,
   "metadata": {},
   "outputs": [],
   "source": [
    "df_plotly = pd.DataFrame({'labels':labels, 'good':good, 'bad':bad, 'none':no})"
   ]
  },
  {
   "cell_type": "code",
   "execution_count": 47,
   "metadata": {},
   "outputs": [
    {
     "data": {
      "text/html": [
       "<div>\n",
       "<style scoped>\n",
       "    .dataframe tbody tr th:only-of-type {\n",
       "        vertical-align: middle;\n",
       "    }\n",
       "\n",
       "    .dataframe tbody tr th {\n",
       "        vertical-align: top;\n",
       "    }\n",
       "\n",
       "    .dataframe thead th {\n",
       "        text-align: right;\n",
       "    }\n",
       "</style>\n",
       "<table border=\"1\" class=\"dataframe\">\n",
       "  <thead>\n",
       "    <tr style=\"text-align: right;\">\n",
       "      <th></th>\n",
       "      <th>labels</th>\n",
       "      <th>good</th>\n",
       "      <th>bad</th>\n",
       "      <th>none</th>\n",
       "    </tr>\n",
       "  </thead>\n",
       "  <tbody>\n",
       "    <tr>\n",
       "      <th>0</th>\n",
       "      <td>gender</td>\n",
       "      <td>1684</td>\n",
       "      <td>12</td>\n",
       "      <td>0</td>\n",
       "    </tr>\n",
       "    <tr>\n",
       "      <th>1</th>\n",
       "      <td>category</td>\n",
       "      <td>1559</td>\n",
       "      <td>137</td>\n",
       "      <td>0</td>\n",
       "    </tr>\n",
       "    <tr>\n",
       "      <th>2</th>\n",
       "      <td>frame</td>\n",
       "      <td>1554</td>\n",
       "      <td>142</td>\n",
       "      <td>0</td>\n",
       "    </tr>\n",
       "  </tbody>\n",
       "</table>\n",
       "</div>"
      ],
      "text/plain": [
       "     labels  good  bad  none\n",
       "0    gender  1684   12     0\n",
       "1  category  1559  137     0\n",
       "2     frame  1554  142     0"
      ]
     },
     "execution_count": 47,
     "metadata": {},
     "output_type": "execute_result"
    }
   ],
   "source": [
    "df_plotly"
   ]
  },
  {
   "cell_type": "code",
   "execution_count": 49,
   "metadata": {
    "scrolled": false
   },
   "outputs": [
    {
     "data": {
      "application/vnd.plotly.v1+json": {
       "config": {
        "plotlyServerURL": "https://plot.ly"
       },
       "data": [
        {
         "alignmentgroup": "True",
         "hovertemplate": "variable=good<br>labels=%{x}<br>value=%{y}<extra></extra>",
         "legendgroup": "good",
         "marker": {
          "color": "green",
          "pattern": {
           "shape": ""
          }
         },
         "name": "good",
         "offsetgroup": "good",
         "orientation": "v",
         "showlegend": true,
         "text": [
          "99.29 %",
          "91.92 %",
          "91.63 %"
         ],
         "textposition": "outside",
         "type": "bar",
         "x": [
          "gender",
          "category",
          "frame"
         ],
         "xaxis": "x",
         "y": [
          1684,
          1559,
          1554
         ],
         "yaxis": "y"
        },
        {
         "alignmentgroup": "True",
         "hovertemplate": "variable=bad<br>labels=%{x}<br>value=%{y}<extra></extra>",
         "legendgroup": "bad",
         "marker": {
          "color": "red",
          "pattern": {
           "shape": ""
          }
         },
         "name": "bad",
         "offsetgroup": "bad",
         "orientation": "v",
         "showlegend": true,
         "text": [
          "0.71 %",
          "8.08 %",
          "8.37 %"
         ],
         "textposition": "outside",
         "type": "bar",
         "x": [
          "gender",
          "category",
          "frame"
         ],
         "xaxis": "x",
         "y": [
          12,
          137,
          142
         ],
         "yaxis": "y"
        }
       ],
       "layout": {
        "barmode": "relative",
        "legend": {
         "title": {
          "text": "variable"
         },
         "tracegroupgap": 0
        },
        "template": {
         "data": {
          "bar": [
           {
            "error_x": {
             "color": "#2a3f5f"
            },
            "error_y": {
             "color": "#2a3f5f"
            },
            "marker": {
             "line": {
              "color": "#E5ECF6",
              "width": 0.5
             },
             "pattern": {
              "fillmode": "overlay",
              "size": 10,
              "solidity": 0.2
             }
            },
            "type": "bar"
           }
          ],
          "barpolar": [
           {
            "marker": {
             "line": {
              "color": "#E5ECF6",
              "width": 0.5
             },
             "pattern": {
              "fillmode": "overlay",
              "size": 10,
              "solidity": 0.2
             }
            },
            "type": "barpolar"
           }
          ],
          "carpet": [
           {
            "aaxis": {
             "endlinecolor": "#2a3f5f",
             "gridcolor": "white",
             "linecolor": "white",
             "minorgridcolor": "white",
             "startlinecolor": "#2a3f5f"
            },
            "baxis": {
             "endlinecolor": "#2a3f5f",
             "gridcolor": "white",
             "linecolor": "white",
             "minorgridcolor": "white",
             "startlinecolor": "#2a3f5f"
            },
            "type": "carpet"
           }
          ],
          "choropleth": [
           {
            "colorbar": {
             "outlinewidth": 0,
             "ticks": ""
            },
            "type": "choropleth"
           }
          ],
          "contour": [
           {
            "colorbar": {
             "outlinewidth": 0,
             "ticks": ""
            },
            "colorscale": [
             [
              0,
              "#0d0887"
             ],
             [
              0.1111111111111111,
              "#46039f"
             ],
             [
              0.2222222222222222,
              "#7201a8"
             ],
             [
              0.3333333333333333,
              "#9c179e"
             ],
             [
              0.4444444444444444,
              "#bd3786"
             ],
             [
              0.5555555555555556,
              "#d8576b"
             ],
             [
              0.6666666666666666,
              "#ed7953"
             ],
             [
              0.7777777777777778,
              "#fb9f3a"
             ],
             [
              0.8888888888888888,
              "#fdca26"
             ],
             [
              1,
              "#f0f921"
             ]
            ],
            "type": "contour"
           }
          ],
          "contourcarpet": [
           {
            "colorbar": {
             "outlinewidth": 0,
             "ticks": ""
            },
            "type": "contourcarpet"
           }
          ],
          "heatmap": [
           {
            "colorbar": {
             "outlinewidth": 0,
             "ticks": ""
            },
            "colorscale": [
             [
              0,
              "#0d0887"
             ],
             [
              0.1111111111111111,
              "#46039f"
             ],
             [
              0.2222222222222222,
              "#7201a8"
             ],
             [
              0.3333333333333333,
              "#9c179e"
             ],
             [
              0.4444444444444444,
              "#bd3786"
             ],
             [
              0.5555555555555556,
              "#d8576b"
             ],
             [
              0.6666666666666666,
              "#ed7953"
             ],
             [
              0.7777777777777778,
              "#fb9f3a"
             ],
             [
              0.8888888888888888,
              "#fdca26"
             ],
             [
              1,
              "#f0f921"
             ]
            ],
            "type": "heatmap"
           }
          ],
          "heatmapgl": [
           {
            "colorbar": {
             "outlinewidth": 0,
             "ticks": ""
            },
            "colorscale": [
             [
              0,
              "#0d0887"
             ],
             [
              0.1111111111111111,
              "#46039f"
             ],
             [
              0.2222222222222222,
              "#7201a8"
             ],
             [
              0.3333333333333333,
              "#9c179e"
             ],
             [
              0.4444444444444444,
              "#bd3786"
             ],
             [
              0.5555555555555556,
              "#d8576b"
             ],
             [
              0.6666666666666666,
              "#ed7953"
             ],
             [
              0.7777777777777778,
              "#fb9f3a"
             ],
             [
              0.8888888888888888,
              "#fdca26"
             ],
             [
              1,
              "#f0f921"
             ]
            ],
            "type": "heatmapgl"
           }
          ],
          "histogram": [
           {
            "marker": {
             "pattern": {
              "fillmode": "overlay",
              "size": 10,
              "solidity": 0.2
             }
            },
            "type": "histogram"
           }
          ],
          "histogram2d": [
           {
            "colorbar": {
             "outlinewidth": 0,
             "ticks": ""
            },
            "colorscale": [
             [
              0,
              "#0d0887"
             ],
             [
              0.1111111111111111,
              "#46039f"
             ],
             [
              0.2222222222222222,
              "#7201a8"
             ],
             [
              0.3333333333333333,
              "#9c179e"
             ],
             [
              0.4444444444444444,
              "#bd3786"
             ],
             [
              0.5555555555555556,
              "#d8576b"
             ],
             [
              0.6666666666666666,
              "#ed7953"
             ],
             [
              0.7777777777777778,
              "#fb9f3a"
             ],
             [
              0.8888888888888888,
              "#fdca26"
             ],
             [
              1,
              "#f0f921"
             ]
            ],
            "type": "histogram2d"
           }
          ],
          "histogram2dcontour": [
           {
            "colorbar": {
             "outlinewidth": 0,
             "ticks": ""
            },
            "colorscale": [
             [
              0,
              "#0d0887"
             ],
             [
              0.1111111111111111,
              "#46039f"
             ],
             [
              0.2222222222222222,
              "#7201a8"
             ],
             [
              0.3333333333333333,
              "#9c179e"
             ],
             [
              0.4444444444444444,
              "#bd3786"
             ],
             [
              0.5555555555555556,
              "#d8576b"
             ],
             [
              0.6666666666666666,
              "#ed7953"
             ],
             [
              0.7777777777777778,
              "#fb9f3a"
             ],
             [
              0.8888888888888888,
              "#fdca26"
             ],
             [
              1,
              "#f0f921"
             ]
            ],
            "type": "histogram2dcontour"
           }
          ],
          "mesh3d": [
           {
            "colorbar": {
             "outlinewidth": 0,
             "ticks": ""
            },
            "type": "mesh3d"
           }
          ],
          "parcoords": [
           {
            "line": {
             "colorbar": {
              "outlinewidth": 0,
              "ticks": ""
             }
            },
            "type": "parcoords"
           }
          ],
          "pie": [
           {
            "automargin": true,
            "type": "pie"
           }
          ],
          "scatter": [
           {
            "marker": {
             "colorbar": {
              "outlinewidth": 0,
              "ticks": ""
             }
            },
            "type": "scatter"
           }
          ],
          "scatter3d": [
           {
            "line": {
             "colorbar": {
              "outlinewidth": 0,
              "ticks": ""
             }
            },
            "marker": {
             "colorbar": {
              "outlinewidth": 0,
              "ticks": ""
             }
            },
            "type": "scatter3d"
           }
          ],
          "scattercarpet": [
           {
            "marker": {
             "colorbar": {
              "outlinewidth": 0,
              "ticks": ""
             }
            },
            "type": "scattercarpet"
           }
          ],
          "scattergeo": [
           {
            "marker": {
             "colorbar": {
              "outlinewidth": 0,
              "ticks": ""
             }
            },
            "type": "scattergeo"
           }
          ],
          "scattergl": [
           {
            "marker": {
             "colorbar": {
              "outlinewidth": 0,
              "ticks": ""
             }
            },
            "type": "scattergl"
           }
          ],
          "scattermapbox": [
           {
            "marker": {
             "colorbar": {
              "outlinewidth": 0,
              "ticks": ""
             }
            },
            "type": "scattermapbox"
           }
          ],
          "scatterpolar": [
           {
            "marker": {
             "colorbar": {
              "outlinewidth": 0,
              "ticks": ""
             }
            },
            "type": "scatterpolar"
           }
          ],
          "scatterpolargl": [
           {
            "marker": {
             "colorbar": {
              "outlinewidth": 0,
              "ticks": ""
             }
            },
            "type": "scatterpolargl"
           }
          ],
          "scatterternary": [
           {
            "marker": {
             "colorbar": {
              "outlinewidth": 0,
              "ticks": ""
             }
            },
            "type": "scatterternary"
           }
          ],
          "surface": [
           {
            "colorbar": {
             "outlinewidth": 0,
             "ticks": ""
            },
            "colorscale": [
             [
              0,
              "#0d0887"
             ],
             [
              0.1111111111111111,
              "#46039f"
             ],
             [
              0.2222222222222222,
              "#7201a8"
             ],
             [
              0.3333333333333333,
              "#9c179e"
             ],
             [
              0.4444444444444444,
              "#bd3786"
             ],
             [
              0.5555555555555556,
              "#d8576b"
             ],
             [
              0.6666666666666666,
              "#ed7953"
             ],
             [
              0.7777777777777778,
              "#fb9f3a"
             ],
             [
              0.8888888888888888,
              "#fdca26"
             ],
             [
              1,
              "#f0f921"
             ]
            ],
            "type": "surface"
           }
          ],
          "table": [
           {
            "cells": {
             "fill": {
              "color": "#EBF0F8"
             },
             "line": {
              "color": "white"
             }
            },
            "header": {
             "fill": {
              "color": "#C8D4E3"
             },
             "line": {
              "color": "white"
             }
            },
            "type": "table"
           }
          ]
         },
         "layout": {
          "annotationdefaults": {
           "arrowcolor": "#2a3f5f",
           "arrowhead": 0,
           "arrowwidth": 1
          },
          "autotypenumbers": "strict",
          "coloraxis": {
           "colorbar": {
            "outlinewidth": 0,
            "ticks": ""
           }
          },
          "colorscale": {
           "diverging": [
            [
             0,
             "#8e0152"
            ],
            [
             0.1,
             "#c51b7d"
            ],
            [
             0.2,
             "#de77ae"
            ],
            [
             0.3,
             "#f1b6da"
            ],
            [
             0.4,
             "#fde0ef"
            ],
            [
             0.5,
             "#f7f7f7"
            ],
            [
             0.6,
             "#e6f5d0"
            ],
            [
             0.7,
             "#b8e186"
            ],
            [
             0.8,
             "#7fbc41"
            ],
            [
             0.9,
             "#4d9221"
            ],
            [
             1,
             "#276419"
            ]
           ],
           "sequential": [
            [
             0,
             "#0d0887"
            ],
            [
             0.1111111111111111,
             "#46039f"
            ],
            [
             0.2222222222222222,
             "#7201a8"
            ],
            [
             0.3333333333333333,
             "#9c179e"
            ],
            [
             0.4444444444444444,
             "#bd3786"
            ],
            [
             0.5555555555555556,
             "#d8576b"
            ],
            [
             0.6666666666666666,
             "#ed7953"
            ],
            [
             0.7777777777777778,
             "#fb9f3a"
            ],
            [
             0.8888888888888888,
             "#fdca26"
            ],
            [
             1,
             "#f0f921"
            ]
           ],
           "sequentialminus": [
            [
             0,
             "#0d0887"
            ],
            [
             0.1111111111111111,
             "#46039f"
            ],
            [
             0.2222222222222222,
             "#7201a8"
            ],
            [
             0.3333333333333333,
             "#9c179e"
            ],
            [
             0.4444444444444444,
             "#bd3786"
            ],
            [
             0.5555555555555556,
             "#d8576b"
            ],
            [
             0.6666666666666666,
             "#ed7953"
            ],
            [
             0.7777777777777778,
             "#fb9f3a"
            ],
            [
             0.8888888888888888,
             "#fdca26"
            ],
            [
             1,
             "#f0f921"
            ]
           ]
          },
          "colorway": [
           "#636efa",
           "#EF553B",
           "#00cc96",
           "#ab63fa",
           "#FFA15A",
           "#19d3f3",
           "#FF6692",
           "#B6E880",
           "#FF97FF",
           "#FECB52"
          ],
          "font": {
           "color": "#2a3f5f"
          },
          "geo": {
           "bgcolor": "white",
           "lakecolor": "white",
           "landcolor": "#E5ECF6",
           "showlakes": true,
           "showland": true,
           "subunitcolor": "white"
          },
          "hoverlabel": {
           "align": "left"
          },
          "hovermode": "closest",
          "mapbox": {
           "style": "light"
          },
          "paper_bgcolor": "white",
          "plot_bgcolor": "#E5ECF6",
          "polar": {
           "angularaxis": {
            "gridcolor": "white",
            "linecolor": "white",
            "ticks": ""
           },
           "bgcolor": "#E5ECF6",
           "radialaxis": {
            "gridcolor": "white",
            "linecolor": "white",
            "ticks": ""
           }
          },
          "scene": {
           "xaxis": {
            "backgroundcolor": "#E5ECF6",
            "gridcolor": "white",
            "gridwidth": 2,
            "linecolor": "white",
            "showbackground": true,
            "ticks": "",
            "zerolinecolor": "white"
           },
           "yaxis": {
            "backgroundcolor": "#E5ECF6",
            "gridcolor": "white",
            "gridwidth": 2,
            "linecolor": "white",
            "showbackground": true,
            "ticks": "",
            "zerolinecolor": "white"
           },
           "zaxis": {
            "backgroundcolor": "#E5ECF6",
            "gridcolor": "white",
            "gridwidth": 2,
            "linecolor": "white",
            "showbackground": true,
            "ticks": "",
            "zerolinecolor": "white"
           }
          },
          "shapedefaults": {
           "line": {
            "color": "#2a3f5f"
           }
          },
          "ternary": {
           "aaxis": {
            "gridcolor": "white",
            "linecolor": "white",
            "ticks": ""
           },
           "baxis": {
            "gridcolor": "white",
            "linecolor": "white",
            "ticks": ""
           },
           "bgcolor": "#E5ECF6",
           "caxis": {
            "gridcolor": "white",
            "linecolor": "white",
            "ticks": ""
           }
          },
          "title": {
           "x": 0.05
          },
          "xaxis": {
           "automargin": true,
           "gridcolor": "white",
           "linecolor": "white",
           "ticks": "",
           "title": {
            "standoff": 15
           },
           "zerolinecolor": "white",
           "zerolinewidth": 2
          },
          "yaxis": {
           "automargin": true,
           "gridcolor": "white",
           "linecolor": "white",
           "ticks": "",
           "title": {
            "standoff": 15
           },
           "zerolinecolor": "white",
           "zerolinewidth": 2
          }
         }
        },
        "title": {
         "text": "sharechat_1.2.1_none"
        },
        "xaxis": {
         "anchor": "y",
         "domain": [
          0,
          1
         ],
         "title": {
          "text": "labels"
         }
        },
        "yaxis": {
         "anchor": "x",
         "domain": [
          0,
          1
         ],
         "title": {
          "text": "value"
         }
        }
       }
      },
      "text/html": [
       "<div>                            <div id=\"134830fd-db56-47e2-9bf9-7540cbf02e4c\" class=\"plotly-graph-div\" style=\"height:525px; width:100%;\"></div>            <script type=\"text/javascript\">                require([\"plotly\"], function(Plotly) {                    window.PLOTLYENV=window.PLOTLYENV || {};                                    if (document.getElementById(\"134830fd-db56-47e2-9bf9-7540cbf02e4c\")) {                    Plotly.newPlot(                        \"134830fd-db56-47e2-9bf9-7540cbf02e4c\",                        [{\"alignmentgroup\":\"True\",\"hovertemplate\":\"variable=good<br>labels=%{x}<br>value=%{y}<extra></extra>\",\"legendgroup\":\"good\",\"marker\":{\"color\":\"green\",\"pattern\":{\"shape\":\"\"}},\"name\":\"good\",\"offsetgroup\":\"good\",\"orientation\":\"v\",\"showlegend\":true,\"textposition\":\"outside\",\"x\":[\"gender\",\"category\",\"frame\"],\"xaxis\":\"x\",\"y\":[1684,1559,1554],\"yaxis\":\"y\",\"type\":\"bar\",\"text\":[\"99.29 %\",\"91.92 %\",\"91.63 %\"]},{\"alignmentgroup\":\"True\",\"hovertemplate\":\"variable=bad<br>labels=%{x}<br>value=%{y}<extra></extra>\",\"legendgroup\":\"bad\",\"marker\":{\"color\":\"red\",\"pattern\":{\"shape\":\"\"}},\"name\":\"bad\",\"offsetgroup\":\"bad\",\"orientation\":\"v\",\"showlegend\":true,\"textposition\":\"outside\",\"x\":[\"gender\",\"category\",\"frame\"],\"xaxis\":\"x\",\"y\":[12,137,142],\"yaxis\":\"y\",\"type\":\"bar\",\"text\":[\"0.71 %\",\"8.08 %\",\"8.37 %\"]}],                        {\"template\":{\"data\":{\"bar\":[{\"error_x\":{\"color\":\"#2a3f5f\"},\"error_y\":{\"color\":\"#2a3f5f\"},\"marker\":{\"line\":{\"color\":\"#E5ECF6\",\"width\":0.5},\"pattern\":{\"fillmode\":\"overlay\",\"size\":10,\"solidity\":0.2}},\"type\":\"bar\"}],\"barpolar\":[{\"marker\":{\"line\":{\"color\":\"#E5ECF6\",\"width\":0.5},\"pattern\":{\"fillmode\":\"overlay\",\"size\":10,\"solidity\":0.2}},\"type\":\"barpolar\"}],\"carpet\":[{\"aaxis\":{\"endlinecolor\":\"#2a3f5f\",\"gridcolor\":\"white\",\"linecolor\":\"white\",\"minorgridcolor\":\"white\",\"startlinecolor\":\"#2a3f5f\"},\"baxis\":{\"endlinecolor\":\"#2a3f5f\",\"gridcolor\":\"white\",\"linecolor\":\"white\",\"minorgridcolor\":\"white\",\"startlinecolor\":\"#2a3f5f\"},\"type\":\"carpet\"}],\"choropleth\":[{\"colorbar\":{\"outlinewidth\":0,\"ticks\":\"\"},\"type\":\"choropleth\"}],\"contour\":[{\"colorbar\":{\"outlinewidth\":0,\"ticks\":\"\"},\"colorscale\":[[0.0,\"#0d0887\"],[0.1111111111111111,\"#46039f\"],[0.2222222222222222,\"#7201a8\"],[0.3333333333333333,\"#9c179e\"],[0.4444444444444444,\"#bd3786\"],[0.5555555555555556,\"#d8576b\"],[0.6666666666666666,\"#ed7953\"],[0.7777777777777778,\"#fb9f3a\"],[0.8888888888888888,\"#fdca26\"],[1.0,\"#f0f921\"]],\"type\":\"contour\"}],\"contourcarpet\":[{\"colorbar\":{\"outlinewidth\":0,\"ticks\":\"\"},\"type\":\"contourcarpet\"}],\"heatmap\":[{\"colorbar\":{\"outlinewidth\":0,\"ticks\":\"\"},\"colorscale\":[[0.0,\"#0d0887\"],[0.1111111111111111,\"#46039f\"],[0.2222222222222222,\"#7201a8\"],[0.3333333333333333,\"#9c179e\"],[0.4444444444444444,\"#bd3786\"],[0.5555555555555556,\"#d8576b\"],[0.6666666666666666,\"#ed7953\"],[0.7777777777777778,\"#fb9f3a\"],[0.8888888888888888,\"#fdca26\"],[1.0,\"#f0f921\"]],\"type\":\"heatmap\"}],\"heatmapgl\":[{\"colorbar\":{\"outlinewidth\":0,\"ticks\":\"\"},\"colorscale\":[[0.0,\"#0d0887\"],[0.1111111111111111,\"#46039f\"],[0.2222222222222222,\"#7201a8\"],[0.3333333333333333,\"#9c179e\"],[0.4444444444444444,\"#bd3786\"],[0.5555555555555556,\"#d8576b\"],[0.6666666666666666,\"#ed7953\"],[0.7777777777777778,\"#fb9f3a\"],[0.8888888888888888,\"#fdca26\"],[1.0,\"#f0f921\"]],\"type\":\"heatmapgl\"}],\"histogram\":[{\"marker\":{\"pattern\":{\"fillmode\":\"overlay\",\"size\":10,\"solidity\":0.2}},\"type\":\"histogram\"}],\"histogram2d\":[{\"colorbar\":{\"outlinewidth\":0,\"ticks\":\"\"},\"colorscale\":[[0.0,\"#0d0887\"],[0.1111111111111111,\"#46039f\"],[0.2222222222222222,\"#7201a8\"],[0.3333333333333333,\"#9c179e\"],[0.4444444444444444,\"#bd3786\"],[0.5555555555555556,\"#d8576b\"],[0.6666666666666666,\"#ed7953\"],[0.7777777777777778,\"#fb9f3a\"],[0.8888888888888888,\"#fdca26\"],[1.0,\"#f0f921\"]],\"type\":\"histogram2d\"}],\"histogram2dcontour\":[{\"colorbar\":{\"outlinewidth\":0,\"ticks\":\"\"},\"colorscale\":[[0.0,\"#0d0887\"],[0.1111111111111111,\"#46039f\"],[0.2222222222222222,\"#7201a8\"],[0.3333333333333333,\"#9c179e\"],[0.4444444444444444,\"#bd3786\"],[0.5555555555555556,\"#d8576b\"],[0.6666666666666666,\"#ed7953\"],[0.7777777777777778,\"#fb9f3a\"],[0.8888888888888888,\"#fdca26\"],[1.0,\"#f0f921\"]],\"type\":\"histogram2dcontour\"}],\"mesh3d\":[{\"colorbar\":{\"outlinewidth\":0,\"ticks\":\"\"},\"type\":\"mesh3d\"}],\"parcoords\":[{\"line\":{\"colorbar\":{\"outlinewidth\":0,\"ticks\":\"\"}},\"type\":\"parcoords\"}],\"pie\":[{\"automargin\":true,\"type\":\"pie\"}],\"scatter\":[{\"marker\":{\"colorbar\":{\"outlinewidth\":0,\"ticks\":\"\"}},\"type\":\"scatter\"}],\"scatter3d\":[{\"line\":{\"colorbar\":{\"outlinewidth\":0,\"ticks\":\"\"}},\"marker\":{\"colorbar\":{\"outlinewidth\":0,\"ticks\":\"\"}},\"type\":\"scatter3d\"}],\"scattercarpet\":[{\"marker\":{\"colorbar\":{\"outlinewidth\":0,\"ticks\":\"\"}},\"type\":\"scattercarpet\"}],\"scattergeo\":[{\"marker\":{\"colorbar\":{\"outlinewidth\":0,\"ticks\":\"\"}},\"type\":\"scattergeo\"}],\"scattergl\":[{\"marker\":{\"colorbar\":{\"outlinewidth\":0,\"ticks\":\"\"}},\"type\":\"scattergl\"}],\"scattermapbox\":[{\"marker\":{\"colorbar\":{\"outlinewidth\":0,\"ticks\":\"\"}},\"type\":\"scattermapbox\"}],\"scatterpolar\":[{\"marker\":{\"colorbar\":{\"outlinewidth\":0,\"ticks\":\"\"}},\"type\":\"scatterpolar\"}],\"scatterpolargl\":[{\"marker\":{\"colorbar\":{\"outlinewidth\":0,\"ticks\":\"\"}},\"type\":\"scatterpolargl\"}],\"scatterternary\":[{\"marker\":{\"colorbar\":{\"outlinewidth\":0,\"ticks\":\"\"}},\"type\":\"scatterternary\"}],\"surface\":[{\"colorbar\":{\"outlinewidth\":0,\"ticks\":\"\"},\"colorscale\":[[0.0,\"#0d0887\"],[0.1111111111111111,\"#46039f\"],[0.2222222222222222,\"#7201a8\"],[0.3333333333333333,\"#9c179e\"],[0.4444444444444444,\"#bd3786\"],[0.5555555555555556,\"#d8576b\"],[0.6666666666666666,\"#ed7953\"],[0.7777777777777778,\"#fb9f3a\"],[0.8888888888888888,\"#fdca26\"],[1.0,\"#f0f921\"]],\"type\":\"surface\"}],\"table\":[{\"cells\":{\"fill\":{\"color\":\"#EBF0F8\"},\"line\":{\"color\":\"white\"}},\"header\":{\"fill\":{\"color\":\"#C8D4E3\"},\"line\":{\"color\":\"white\"}},\"type\":\"table\"}]},\"layout\":{\"annotationdefaults\":{\"arrowcolor\":\"#2a3f5f\",\"arrowhead\":0,\"arrowwidth\":1},\"autotypenumbers\":\"strict\",\"coloraxis\":{\"colorbar\":{\"outlinewidth\":0,\"ticks\":\"\"}},\"colorscale\":{\"diverging\":[[0,\"#8e0152\"],[0.1,\"#c51b7d\"],[0.2,\"#de77ae\"],[0.3,\"#f1b6da\"],[0.4,\"#fde0ef\"],[0.5,\"#f7f7f7\"],[0.6,\"#e6f5d0\"],[0.7,\"#b8e186\"],[0.8,\"#7fbc41\"],[0.9,\"#4d9221\"],[1,\"#276419\"]],\"sequential\":[[0.0,\"#0d0887\"],[0.1111111111111111,\"#46039f\"],[0.2222222222222222,\"#7201a8\"],[0.3333333333333333,\"#9c179e\"],[0.4444444444444444,\"#bd3786\"],[0.5555555555555556,\"#d8576b\"],[0.6666666666666666,\"#ed7953\"],[0.7777777777777778,\"#fb9f3a\"],[0.8888888888888888,\"#fdca26\"],[1.0,\"#f0f921\"]],\"sequentialminus\":[[0.0,\"#0d0887\"],[0.1111111111111111,\"#46039f\"],[0.2222222222222222,\"#7201a8\"],[0.3333333333333333,\"#9c179e\"],[0.4444444444444444,\"#bd3786\"],[0.5555555555555556,\"#d8576b\"],[0.6666666666666666,\"#ed7953\"],[0.7777777777777778,\"#fb9f3a\"],[0.8888888888888888,\"#fdca26\"],[1.0,\"#f0f921\"]]},\"colorway\":[\"#636efa\",\"#EF553B\",\"#00cc96\",\"#ab63fa\",\"#FFA15A\",\"#19d3f3\",\"#FF6692\",\"#B6E880\",\"#FF97FF\",\"#FECB52\"],\"font\":{\"color\":\"#2a3f5f\"},\"geo\":{\"bgcolor\":\"white\",\"lakecolor\":\"white\",\"landcolor\":\"#E5ECF6\",\"showlakes\":true,\"showland\":true,\"subunitcolor\":\"white\"},\"hoverlabel\":{\"align\":\"left\"},\"hovermode\":\"closest\",\"mapbox\":{\"style\":\"light\"},\"paper_bgcolor\":\"white\",\"plot_bgcolor\":\"#E5ECF6\",\"polar\":{\"angularaxis\":{\"gridcolor\":\"white\",\"linecolor\":\"white\",\"ticks\":\"\"},\"bgcolor\":\"#E5ECF6\",\"radialaxis\":{\"gridcolor\":\"white\",\"linecolor\":\"white\",\"ticks\":\"\"}},\"scene\":{\"xaxis\":{\"backgroundcolor\":\"#E5ECF6\",\"gridcolor\":\"white\",\"gridwidth\":2,\"linecolor\":\"white\",\"showbackground\":true,\"ticks\":\"\",\"zerolinecolor\":\"white\"},\"yaxis\":{\"backgroundcolor\":\"#E5ECF6\",\"gridcolor\":\"white\",\"gridwidth\":2,\"linecolor\":\"white\",\"showbackground\":true,\"ticks\":\"\",\"zerolinecolor\":\"white\"},\"zaxis\":{\"backgroundcolor\":\"#E5ECF6\",\"gridcolor\":\"white\",\"gridwidth\":2,\"linecolor\":\"white\",\"showbackground\":true,\"ticks\":\"\",\"zerolinecolor\":\"white\"}},\"shapedefaults\":{\"line\":{\"color\":\"#2a3f5f\"}},\"ternary\":{\"aaxis\":{\"gridcolor\":\"white\",\"linecolor\":\"white\",\"ticks\":\"\"},\"baxis\":{\"gridcolor\":\"white\",\"linecolor\":\"white\",\"ticks\":\"\"},\"bgcolor\":\"#E5ECF6\",\"caxis\":{\"gridcolor\":\"white\",\"linecolor\":\"white\",\"ticks\":\"\"}},\"title\":{\"x\":0.05},\"xaxis\":{\"automargin\":true,\"gridcolor\":\"white\",\"linecolor\":\"white\",\"ticks\":\"\",\"title\":{\"standoff\":15},\"zerolinecolor\":\"white\",\"zerolinewidth\":2},\"yaxis\":{\"automargin\":true,\"gridcolor\":\"white\",\"linecolor\":\"white\",\"ticks\":\"\",\"title\":{\"standoff\":15},\"zerolinecolor\":\"white\",\"zerolinewidth\":2}}},\"xaxis\":{\"anchor\":\"y\",\"domain\":[0.0,1.0],\"title\":{\"text\":\"labels\"}},\"yaxis\":{\"anchor\":\"x\",\"domain\":[0.0,1.0],\"title\":{\"text\":\"value\"}},\"legend\":{\"title\":{\"text\":\"variable\"},\"tracegroupgap\":0},\"title\":{\"text\":\"sharechat_1.2.1_none\"},\"barmode\":\"relative\"},                        {\"responsive\": true}                    ).then(function(){\n",
       "                            \n",
       "var gd = document.getElementById('134830fd-db56-47e2-9bf9-7540cbf02e4c');\n",
       "var x = new MutationObserver(function (mutations, observer) {{\n",
       "        var display = window.getComputedStyle(gd).display;\n",
       "        if (!display || display === 'none') {{\n",
       "            console.log([gd, 'removed!']);\n",
       "            Plotly.purge(gd);\n",
       "            observer.disconnect();\n",
       "        }}\n",
       "}});\n",
       "\n",
       "// Listen for the removal of the full notebook cells\n",
       "var notebookContainer = gd.closest('#notebook-container');\n",
       "if (notebookContainer) {{\n",
       "    x.observe(notebookContainer, {childList: true});\n",
       "}}\n",
       "\n",
       "// Listen for the clearing of the current output cell\n",
       "var outputEl = gd.closest('.output');\n",
       "if (outputEl) {{\n",
       "    x.observe(outputEl, {childList: true});\n",
       "}}\n",
       "\n",
       "                        })                };                });            </script>        </div>"
      ]
     },
     "metadata": {},
     "output_type": "display_data"
    }
   ],
   "source": [
    "import plotly.express as px\n",
    "\n",
    "fig = px.bar(df_plotly, x=\"labels\", y=['good', 'bad'], barmode = 'relative',\n",
    "              color_discrete_map = {'none':'yellow', 'good':'green', 'bad': 'red'},\n",
    "              title=(f'{version}_none'),width=None, height=None)\n",
    "\n",
    "texts = [good, bad]\n",
    "for i, t in enumerate(texts):\n",
    "    fig.data[i].text = [f\"{round(x/total*100,2)} %\" for x in t]\n",
    "    fig.data[i].textposition = 'outside'\n",
    "fig.show()\n",
    " "
   ]
  },
  {
   "cell_type": "code",
   "execution_count": 87,
   "metadata": {
    "scrolled": false
   },
   "outputs": [
    {
     "data": {
      "text/html": [
       "<div>\n",
       "<style scoped>\n",
       "    .dataframe tbody tr th:only-of-type {\n",
       "        vertical-align: middle;\n",
       "    }\n",
       "\n",
       "    .dataframe tbody tr th {\n",
       "        vertical-align: top;\n",
       "    }\n",
       "\n",
       "    .dataframe thead th {\n",
       "        text-align: right;\n",
       "    }\n",
       "</style>\n",
       "<table border=\"1\" class=\"dataframe\">\n",
       "  <thead>\n",
       "    <tr style=\"text-align: right;\">\n",
       "      <th>version</th>\n",
       "      <th>sharechat_1.1.4</th>\n",
       "      <th>sharechat_1.2</th>\n",
       "      <th>mx_1.1.4</th>\n",
       "      <th>mx_1.2</th>\n",
       "      <th>sharechat_1.2.1</th>\n",
       "      <th>mx_1.2.1</th>\n",
       "    </tr>\n",
       "  </thead>\n",
       "  <tbody>\n",
       "    <tr>\n",
       "      <th>client</th>\n",
       "      <td>sharechat</td>\n",
       "      <td>sharechat</td>\n",
       "      <td>mx</td>\n",
       "      <td>mx</td>\n",
       "      <td>sharechat</td>\n",
       "      <td>mx</td>\n",
       "    </tr>\n",
       "    <tr>\n",
       "      <th>total_qa</th>\n",
       "      <td>1271</td>\n",
       "      <td>1330</td>\n",
       "      <td>1281</td>\n",
       "      <td>1228</td>\n",
       "      <td>2126</td>\n",
       "      <td>625</td>\n",
       "    </tr>\n",
       "    <tr>\n",
       "      <th>total_segmented_videos</th>\n",
       "      <td>956</td>\n",
       "      <td>956</td>\n",
       "      <td>588</td>\n",
       "      <td>588</td>\n",
       "      <td>956</td>\n",
       "      <td>588</td>\n",
       "    </tr>\n",
       "    <tr>\n",
       "      <th>total_product_recommended</th>\n",
       "      <td>351</td>\n",
       "      <td>325</td>\n",
       "      <td>303</td>\n",
       "      <td>313</td>\n",
       "      <td>430</td>\n",
       "      <td>64</td>\n",
       "    </tr>\n",
       "    <tr>\n",
       "      <th>total_videos_hit</th>\n",
       "      <td>355</td>\n",
       "      <td>332</td>\n",
       "      <td>239</td>\n",
       "      <td>240</td>\n",
       "      <td>398</td>\n",
       "      <td>60</td>\n",
       "    </tr>\n",
       "    <tr>\n",
       "      <th>hit_rate_in_percent</th>\n",
       "      <td>37.13</td>\n",
       "      <td>34.73</td>\n",
       "      <td>40.65</td>\n",
       "      <td>40.82</td>\n",
       "      <td>41.63</td>\n",
       "      <td>10.2</td>\n",
       "    </tr>\n",
       "    <tr>\n",
       "      <th>best_recommendation (all_metrics_good)</th>\n",
       "      <td>223</td>\n",
       "      <td>270</td>\n",
       "      <td>214</td>\n",
       "      <td>221</td>\n",
       "      <td>359</td>\n",
       "      <td>47</td>\n",
       "    </tr>\n",
       "    <tr>\n",
       "      <th>best_recommendation (%)</th>\n",
       "      <td>63.53</td>\n",
       "      <td>83.08</td>\n",
       "      <td>70.63</td>\n",
       "      <td>70.61</td>\n",
       "      <td>83.49</td>\n",
       "      <td>73.44</td>\n",
       "    </tr>\n",
       "    <tr>\n",
       "      <th>bad_gender</th>\n",
       "      <td>28</td>\n",
       "      <td>5</td>\n",
       "      <td>13</td>\n",
       "      <td>5</td>\n",
       "      <td>16</td>\n",
       "      <td>5</td>\n",
       "    </tr>\n",
       "    <tr>\n",
       "      <th>good_gender</th>\n",
       "      <td>1243</td>\n",
       "      <td>1325</td>\n",
       "      <td>1268</td>\n",
       "      <td>1223</td>\n",
       "      <td>2110</td>\n",
       "      <td>620</td>\n",
       "    </tr>\n",
       "    <tr>\n",
       "      <th>bad_color</th>\n",
       "      <td>39</td>\n",
       "      <td>21</td>\n",
       "      <td>44</td>\n",
       "      <td>49</td>\n",
       "      <td>21</td>\n",
       "      <td>11</td>\n",
       "    </tr>\n",
       "    <tr>\n",
       "      <th>good_color</th>\n",
       "      <td>312</td>\n",
       "      <td>304</td>\n",
       "      <td>259</td>\n",
       "      <td>264</td>\n",
       "      <td>409</td>\n",
       "      <td>53</td>\n",
       "    </tr>\n",
       "    <tr>\n",
       "      <th>none_color</th>\n",
       "      <td>920</td>\n",
       "      <td>1005</td>\n",
       "      <td>978</td>\n",
       "      <td>915</td>\n",
       "      <td>1696</td>\n",
       "      <td>561</td>\n",
       "    </tr>\n",
       "    <tr>\n",
       "      <th>bad_category</th>\n",
       "      <td>150</td>\n",
       "      <td>101</td>\n",
       "      <td>195</td>\n",
       "      <td>208</td>\n",
       "      <td>156</td>\n",
       "      <td>90</td>\n",
       "    </tr>\n",
       "    <tr>\n",
       "      <th>good_category</th>\n",
       "      <td>1121</td>\n",
       "      <td>1229</td>\n",
       "      <td>1086</td>\n",
       "      <td>1020</td>\n",
       "      <td>1970</td>\n",
       "      <td>535</td>\n",
       "    </tr>\n",
       "    <tr>\n",
       "      <th>bad_pattern</th>\n",
       "      <td>83</td>\n",
       "      <td>29</td>\n",
       "      <td>37</td>\n",
       "      <td>37</td>\n",
       "      <td>36</td>\n",
       "      <td>4</td>\n",
       "    </tr>\n",
       "    <tr>\n",
       "      <th>good_pattern</th>\n",
       "      <td>268</td>\n",
       "      <td>296</td>\n",
       "      <td>266</td>\n",
       "      <td>276</td>\n",
       "      <td>394</td>\n",
       "      <td>60</td>\n",
       "    </tr>\n",
       "    <tr>\n",
       "      <th>none_pattern</th>\n",
       "      <td>920</td>\n",
       "      <td>1005</td>\n",
       "      <td>978</td>\n",
       "      <td>915</td>\n",
       "      <td>1696</td>\n",
       "      <td>561</td>\n",
       "    </tr>\n",
       "    <tr>\n",
       "      <th>bad_frame</th>\n",
       "      <td>29</td>\n",
       "      <td>101</td>\n",
       "      <td>309</td>\n",
       "      <td>16</td>\n",
       "      <td>161</td>\n",
       "      <td>27</td>\n",
       "    </tr>\n",
       "    <tr>\n",
       "      <th>good_frame</th>\n",
       "      <td>1242</td>\n",
       "      <td>1229</td>\n",
       "      <td>972</td>\n",
       "      <td>1212</td>\n",
       "      <td>1965</td>\n",
       "      <td>598</td>\n",
       "    </tr>\n",
       "  </tbody>\n",
       "</table>\n",
       "</div>"
      ],
      "text/plain": [
       "version                                sharechat_1.1.4 sharechat_1.2 mx_1.1.4  \\\n",
       "client                                       sharechat     sharechat       mx   \n",
       "total_qa                                          1271          1330     1281   \n",
       "total_segmented_videos                             956           956      588   \n",
       "total_product_recommended                          351           325      303   \n",
       "total_videos_hit                                   355           332      239   \n",
       "hit_rate_in_percent                              37.13         34.73    40.65   \n",
       "best_recommendation (all_metrics_good)             223           270      214   \n",
       "best_recommendation (%)                          63.53         83.08    70.63   \n",
       "bad_gender                                          28             5       13   \n",
       "good_gender                                       1243          1325     1268   \n",
       "bad_color                                           39            21       44   \n",
       "good_color                                         312           304      259   \n",
       "none_color                                         920          1005      978   \n",
       "bad_category                                       150           101      195   \n",
       "good_category                                     1121          1229     1086   \n",
       "bad_pattern                                         83            29       37   \n",
       "good_pattern                                       268           296      266   \n",
       "none_pattern                                       920          1005      978   \n",
       "bad_frame                                           29           101      309   \n",
       "good_frame                                        1242          1229      972   \n",
       "\n",
       "version                                mx_1.2 sharechat_1.2.1 mx_1.2.1  \n",
       "client                                     mx       sharechat       mx  \n",
       "total_qa                                 1228            2126      625  \n",
       "total_segmented_videos                    588             956      588  \n",
       "total_product_recommended                 313             430       64  \n",
       "total_videos_hit                          240             398       60  \n",
       "hit_rate_in_percent                     40.82           41.63     10.2  \n",
       "best_recommendation (all_metrics_good)    221             359       47  \n",
       "best_recommendation (%)                 70.61           83.49    73.44  \n",
       "bad_gender                                  5              16        5  \n",
       "good_gender                              1223            2110      620  \n",
       "bad_color                                  49              21       11  \n",
       "good_color                                264             409       53  \n",
       "none_color                                915            1696      561  \n",
       "bad_category                              208             156       90  \n",
       "good_category                            1020            1970      535  \n",
       "bad_pattern                                37              36        4  \n",
       "good_pattern                              276             394       60  \n",
       "none_pattern                              915            1696      561  \n",
       "bad_frame                                  16             161       27  \n",
       "good_frame                               1212            1965      598  "
      ]
     },
     "execution_count": 87,
     "metadata": {},
     "output_type": "execute_result"
    }
   ],
   "source": [
    "df_previous.transpose()"
   ]
  },
  {
   "cell_type": "code",
   "execution_count": null,
   "metadata": {},
   "outputs": [],
   "source": []
  },
  {
   "cell_type": "code",
   "execution_count": null,
   "metadata": {},
   "outputs": [],
   "source": []
  },
  {
   "cell_type": "code",
   "execution_count": null,
   "metadata": {},
   "outputs": [],
   "source": []
  },
  {
   "cell_type": "code",
   "execution_count": null,
   "metadata": {},
   "outputs": [],
   "source": []
  },
  {
   "cell_type": "code",
   "execution_count": null,
   "metadata": {},
   "outputs": [],
   "source": []
  },
  {
   "cell_type": "code",
   "execution_count": null,
   "metadata": {},
   "outputs": [],
   "source": []
  },
  {
   "cell_type": "code",
   "execution_count": null,
   "metadata": {},
   "outputs": [],
   "source": []
  },
  {
   "cell_type": "code",
   "execution_count": null,
   "metadata": {},
   "outputs": [],
   "source": []
  },
  {
   "cell_type": "code",
   "execution_count": null,
   "metadata": {},
   "outputs": [],
   "source": []
  },
  {
   "cell_type": "code",
   "execution_count": null,
   "metadata": {},
   "outputs": [],
   "source": []
  },
  {
   "cell_type": "code",
   "execution_count": null,
   "metadata": {},
   "outputs": [],
   "source": []
  },
  {
   "cell_type": "code",
   "execution_count": null,
   "metadata": {},
   "outputs": [],
   "source": []
  },
  {
   "cell_type": "code",
   "execution_count": null,
   "metadata": {},
   "outputs": [],
   "source": []
  },
  {
   "cell_type": "code",
   "execution_count": null,
   "metadata": {},
   "outputs": [],
   "source": []
  }
 ],
 "metadata": {
  "kernelspec": {
   "display_name": "Python 3",
   "language": "python",
   "name": "python3"
  },
  "language_info": {
   "codemirror_mode": {
    "name": "ipython",
    "version": 3
   },
   "file_extension": ".py",
   "mimetype": "text/x-python",
   "name": "python",
   "nbconvert_exporter": "python",
   "pygments_lexer": "ipython3",
   "version": "3.6.9"
  }
 },
 "nbformat": 4,
 "nbformat_minor": 5
}
